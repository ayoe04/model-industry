{
  "nbformat": 4,
  "nbformat_minor": 0,
  "metadata": {
    "colab": {
      "provenance": []
    },
    "kernelspec": {
      "name": "python3",
      "display_name": "Python 3"
    },
    "language_info": {
      "name": "python"
    }
  },
  "cells": [
    {
      "cell_type": "markdown",
      "source": [
        "# program"
      ],
      "metadata": {
        "id": "iilHb33YmW4c"
      }
    },
    {
      "cell_type": "code",
      "execution_count": 1,
      "metadata": {
        "id": "TtatpVEK3IN-"
      },
      "outputs": [],
      "source": [
        "# import library\n",
        "import pandas as pd\n",
        "\n",
        "df = pd.read_csv('/content/tangkap_sensor_1_adc.csv')"
      ]
    },
    {
      "cell_type": "code",
      "source": [
        "df = df.drop(['id', 'waktu'], axis=1)"
      ],
      "metadata": {
        "id": "dRD5Y2Zd3dNg"
      },
      "execution_count": 2,
      "outputs": []
    },
    {
      "cell_type": "code",
      "source": [
        "from sklearn import preprocessing\n",
        "\n",
        "minmax = preprocessing.MinMaxScaler().fit_transform(df)"
      ],
      "metadata": {
        "id": "bCBftZAz3qv8"
      },
      "execution_count": 3,
      "outputs": []
    },
    {
      "cell_type": "code",
      "source": [
        "minmax"
      ],
      "metadata": {
        "colab": {
          "base_uri": "https://localhost:8080/"
        },
        "id": "GcIHCyMU3xjS",
        "outputId": "756bd808-8a80-44c5-863a-caa299c13019"
      },
      "execution_count": 4,
      "outputs": [
        {
          "output_type": "execute_result",
          "data": {
            "text/plain": [
              "array([[2.93040293e-03, 8.69205298e-03, 7.32600733e-04, 8.58012732e-03,\n",
              "        0.00000000e+00, 7.84412955e-03],\n",
              "       [2.93040293e-03, 8.69205298e-03, 7.32600733e-04, 8.58012732e-03,\n",
              "        0.00000000e+00, 7.84412955e-03],\n",
              "       [2.93040293e-03, 8.69205298e-03, 7.32600733e-04, 8.58012732e-03,\n",
              "        0.00000000e+00, 7.84412955e-03],\n",
              "       ...,\n",
              "       [6.60317460e-01, 0.00000000e+00, 6.99145299e-01, 9.83393302e-01,\n",
              "        4.79074348e-01, 3.40840081e-01],\n",
              "       [6.60317460e-01, 0.00000000e+00, 6.99145299e-01, 9.82839745e-01,\n",
              "        4.80797637e-01, 3.40587045e-01],\n",
              "       [6.59829060e-01, 0.00000000e+00, 6.99145299e-01, 9.82009410e-01,\n",
              "        4.83259478e-01, 3.42358300e-01]])"
            ]
          },
          "metadata": {},
          "execution_count": 4
        }
      ]
    },
    {
      "cell_type": "code",
      "source": [
        "from sklearn.cluster import KMeans\n",
        "kmeans = KMeans(n_clusters=2)\n",
        "kmeans.fit(df)"
      ],
      "metadata": {
        "colab": {
          "base_uri": "https://localhost:8080/"
        },
        "id": "ZmThoqFm3z6K",
        "outputId": "634997b3-a2cd-4774-ee3a-233ebe02ee81"
      },
      "execution_count": 5,
      "outputs": [
        {
          "output_type": "execute_result",
          "data": {
            "text/plain": [
              "KMeans(n_clusters=2)"
            ]
          },
          "metadata": {},
          "execution_count": 5
        }
      ]
    },
    {
      "cell_type": "code",
      "source": [
        "kmeans.labels_"
      ],
      "metadata": {
        "colab": {
          "base_uri": "https://localhost:8080/"
        },
        "id": "GQjfWlLP32XW",
        "outputId": "bcb4ae71-fe58-42d2-ccf7-a7b0b799dd82"
      },
      "execution_count": 6,
      "outputs": [
        {
          "output_type": "execute_result",
          "data": {
            "text/plain": [
              "array([1, 1, 1, ..., 0, 0, 0], dtype=int32)"
            ]
          },
          "metadata": {},
          "execution_count": 6
        }
      ]
    },
    {
      "cell_type": "code",
      "source": [
        "df['cluster'] = kmeans.labels_"
      ],
      "metadata": {
        "id": "unJcR4vg35Bj"
      },
      "execution_count": 7,
      "outputs": []
    },
    {
      "cell_type": "code",
      "source": [
        "df"
      ],
      "metadata": {
        "colab": {
          "base_uri": "https://localhost:8080/",
          "height": 488
        },
        "id": "--QA6oEA3646",
        "outputId": "059bd3f5-b47a-4197-d26a-900f3054517c"
      },
      "execution_count": 8,
      "outputs": [
        {
          "output_type": "execute_result",
          "data": {
            "text/plain": [
              "       sensor1_adc  sensor2_adc  sensor3_adc  sensor4_adc  sensor5_adc  \\\n",
              "0               12           21            3           31           33   \n",
              "1               12           21            3           31           33   \n",
              "2               12           21            3           31           33   \n",
              "3                0            0            0            0          630   \n",
              "4                0            0            0            0          355   \n",
              "...            ...          ...          ...          ...          ...   \n",
              "26635         2704            0         2864         3551         1963   \n",
              "26636         2704            0         2864         3554         1968   \n",
              "26637         2704            0         2863         3553         1979   \n",
              "26638         2704            0         2863         3551         1986   \n",
              "26639         2702            0         2863         3548         1996   \n",
              "\n",
              "       sensor6_adc  cluster  \n",
              "0               31        1  \n",
              "1               31        1  \n",
              "2               31        1  \n",
              "3              342        1  \n",
              "4              118        1  \n",
              "...            ...      ...  \n",
              "26635         1347        0  \n",
              "26636         1328        0  \n",
              "26637         1347        0  \n",
              "26638         1346        0  \n",
              "26639         1353        0  \n",
              "\n",
              "[26640 rows x 7 columns]"
            ],
            "text/html": [
              "\n",
              "  <div id=\"df-804b4e39-ac34-49af-903a-14f4065b9a32\">\n",
              "    <div class=\"colab-df-container\">\n",
              "      <div>\n",
              "<style scoped>\n",
              "    .dataframe tbody tr th:only-of-type {\n",
              "        vertical-align: middle;\n",
              "    }\n",
              "\n",
              "    .dataframe tbody tr th {\n",
              "        vertical-align: top;\n",
              "    }\n",
              "\n",
              "    .dataframe thead th {\n",
              "        text-align: right;\n",
              "    }\n",
              "</style>\n",
              "<table border=\"1\" class=\"dataframe\">\n",
              "  <thead>\n",
              "    <tr style=\"text-align: right;\">\n",
              "      <th></th>\n",
              "      <th>sensor1_adc</th>\n",
              "      <th>sensor2_adc</th>\n",
              "      <th>sensor3_adc</th>\n",
              "      <th>sensor4_adc</th>\n",
              "      <th>sensor5_adc</th>\n",
              "      <th>sensor6_adc</th>\n",
              "      <th>cluster</th>\n",
              "    </tr>\n",
              "  </thead>\n",
              "  <tbody>\n",
              "    <tr>\n",
              "      <th>0</th>\n",
              "      <td>12</td>\n",
              "      <td>21</td>\n",
              "      <td>3</td>\n",
              "      <td>31</td>\n",
              "      <td>33</td>\n",
              "      <td>31</td>\n",
              "      <td>1</td>\n",
              "    </tr>\n",
              "    <tr>\n",
              "      <th>1</th>\n",
              "      <td>12</td>\n",
              "      <td>21</td>\n",
              "      <td>3</td>\n",
              "      <td>31</td>\n",
              "      <td>33</td>\n",
              "      <td>31</td>\n",
              "      <td>1</td>\n",
              "    </tr>\n",
              "    <tr>\n",
              "      <th>2</th>\n",
              "      <td>12</td>\n",
              "      <td>21</td>\n",
              "      <td>3</td>\n",
              "      <td>31</td>\n",
              "      <td>33</td>\n",
              "      <td>31</td>\n",
              "      <td>1</td>\n",
              "    </tr>\n",
              "    <tr>\n",
              "      <th>3</th>\n",
              "      <td>0</td>\n",
              "      <td>0</td>\n",
              "      <td>0</td>\n",
              "      <td>0</td>\n",
              "      <td>630</td>\n",
              "      <td>342</td>\n",
              "      <td>1</td>\n",
              "    </tr>\n",
              "    <tr>\n",
              "      <th>4</th>\n",
              "      <td>0</td>\n",
              "      <td>0</td>\n",
              "      <td>0</td>\n",
              "      <td>0</td>\n",
              "      <td>355</td>\n",
              "      <td>118</td>\n",
              "      <td>1</td>\n",
              "    </tr>\n",
              "    <tr>\n",
              "      <th>...</th>\n",
              "      <td>...</td>\n",
              "      <td>...</td>\n",
              "      <td>...</td>\n",
              "      <td>...</td>\n",
              "      <td>...</td>\n",
              "      <td>...</td>\n",
              "      <td>...</td>\n",
              "    </tr>\n",
              "    <tr>\n",
              "      <th>26635</th>\n",
              "      <td>2704</td>\n",
              "      <td>0</td>\n",
              "      <td>2864</td>\n",
              "      <td>3551</td>\n",
              "      <td>1963</td>\n",
              "      <td>1347</td>\n",
              "      <td>0</td>\n",
              "    </tr>\n",
              "    <tr>\n",
              "      <th>26636</th>\n",
              "      <td>2704</td>\n",
              "      <td>0</td>\n",
              "      <td>2864</td>\n",
              "      <td>3554</td>\n",
              "      <td>1968</td>\n",
              "      <td>1328</td>\n",
              "      <td>0</td>\n",
              "    </tr>\n",
              "    <tr>\n",
              "      <th>26637</th>\n",
              "      <td>2704</td>\n",
              "      <td>0</td>\n",
              "      <td>2863</td>\n",
              "      <td>3553</td>\n",
              "      <td>1979</td>\n",
              "      <td>1347</td>\n",
              "      <td>0</td>\n",
              "    </tr>\n",
              "    <tr>\n",
              "      <th>26638</th>\n",
              "      <td>2704</td>\n",
              "      <td>0</td>\n",
              "      <td>2863</td>\n",
              "      <td>3551</td>\n",
              "      <td>1986</td>\n",
              "      <td>1346</td>\n",
              "      <td>0</td>\n",
              "    </tr>\n",
              "    <tr>\n",
              "      <th>26639</th>\n",
              "      <td>2702</td>\n",
              "      <td>0</td>\n",
              "      <td>2863</td>\n",
              "      <td>3548</td>\n",
              "      <td>1996</td>\n",
              "      <td>1353</td>\n",
              "      <td>0</td>\n",
              "    </tr>\n",
              "  </tbody>\n",
              "</table>\n",
              "<p>26640 rows × 7 columns</p>\n",
              "</div>\n",
              "      <button class=\"colab-df-convert\" onclick=\"convertToInteractive('df-804b4e39-ac34-49af-903a-14f4065b9a32')\"\n",
              "              title=\"Convert this dataframe to an interactive table.\"\n",
              "              style=\"display:none;\">\n",
              "        \n",
              "  <svg xmlns=\"http://www.w3.org/2000/svg\" height=\"24px\"viewBox=\"0 0 24 24\"\n",
              "       width=\"24px\">\n",
              "    <path d=\"M0 0h24v24H0V0z\" fill=\"none\"/>\n",
              "    <path d=\"M18.56 5.44l.94 2.06.94-2.06 2.06-.94-2.06-.94-.94-2.06-.94 2.06-2.06.94zm-11 1L8.5 8.5l.94-2.06 2.06-.94-2.06-.94L8.5 2.5l-.94 2.06-2.06.94zm10 10l.94 2.06.94-2.06 2.06-.94-2.06-.94-.94-2.06-.94 2.06-2.06.94z\"/><path d=\"M17.41 7.96l-1.37-1.37c-.4-.4-.92-.59-1.43-.59-.52 0-1.04.2-1.43.59L10.3 9.45l-7.72 7.72c-.78.78-.78 2.05 0 2.83L4 21.41c.39.39.9.59 1.41.59.51 0 1.02-.2 1.41-.59l7.78-7.78 2.81-2.81c.8-.78.8-2.07 0-2.86zM5.41 20L4 18.59l7.72-7.72 1.47 1.35L5.41 20z\"/>\n",
              "  </svg>\n",
              "      </button>\n",
              "      \n",
              "  <style>\n",
              "    .colab-df-container {\n",
              "      display:flex;\n",
              "      flex-wrap:wrap;\n",
              "      gap: 12px;\n",
              "    }\n",
              "\n",
              "    .colab-df-convert {\n",
              "      background-color: #E8F0FE;\n",
              "      border: none;\n",
              "      border-radius: 50%;\n",
              "      cursor: pointer;\n",
              "      display: none;\n",
              "      fill: #1967D2;\n",
              "      height: 32px;\n",
              "      padding: 0 0 0 0;\n",
              "      width: 32px;\n",
              "    }\n",
              "\n",
              "    .colab-df-convert:hover {\n",
              "      background-color: #E2EBFA;\n",
              "      box-shadow: 0px 1px 2px rgba(60, 64, 67, 0.3), 0px 1px 3px 1px rgba(60, 64, 67, 0.15);\n",
              "      fill: #174EA6;\n",
              "    }\n",
              "\n",
              "    [theme=dark] .colab-df-convert {\n",
              "      background-color: #3B4455;\n",
              "      fill: #D2E3FC;\n",
              "    }\n",
              "\n",
              "    [theme=dark] .colab-df-convert:hover {\n",
              "      background-color: #434B5C;\n",
              "      box-shadow: 0px 1px 3px 1px rgba(0, 0, 0, 0.15);\n",
              "      filter: drop-shadow(0px 1px 2px rgba(0, 0, 0, 0.3));\n",
              "      fill: #FFFFFF;\n",
              "    }\n",
              "  </style>\n",
              "\n",
              "      <script>\n",
              "        const buttonEl =\n",
              "          document.querySelector('#df-804b4e39-ac34-49af-903a-14f4065b9a32 button.colab-df-convert');\n",
              "        buttonEl.style.display =\n",
              "          google.colab.kernel.accessAllowed ? 'block' : 'none';\n",
              "\n",
              "        async function convertToInteractive(key) {\n",
              "          const element = document.querySelector('#df-804b4e39-ac34-49af-903a-14f4065b9a32');\n",
              "          const dataTable =\n",
              "            await google.colab.kernel.invokeFunction('convertToInteractive',\n",
              "                                                     [key], {});\n",
              "          if (!dataTable) return;\n",
              "\n",
              "          const docLinkHtml = 'Like what you see? Visit the ' +\n",
              "            '<a target=\"_blank\" href=https://colab.research.google.com/notebooks/data_table.ipynb>data table notebook</a>'\n",
              "            + ' to learn more about interactive tables.';\n",
              "          element.innerHTML = '';\n",
              "          dataTable['output_type'] = 'display_data';\n",
              "          await google.colab.output.renderOutput(dataTable, element);\n",
              "          const docLink = document.createElement('div');\n",
              "          docLink.innerHTML = docLinkHtml;\n",
              "          element.appendChild(docLink);\n",
              "        }\n",
              "      </script>\n",
              "    </div>\n",
              "  </div>\n",
              "  "
            ]
          },
          "metadata": {},
          "execution_count": 8
        }
      ]
    },
    {
      "cell_type": "code",
      "source": [
        "import matplotlib.pyplot as plt\n",
        "plt.hist(df['cluster'])"
      ],
      "metadata": {
        "colab": {
          "base_uri": "https://localhost:8080/",
          "height": 334
        },
        "id": "iUzMMVXa37p7",
        "outputId": "7eb0fb95-dc7a-48e3-f6a0-7bc542d989c7"
      },
      "execution_count": 9,
      "outputs": [
        {
          "output_type": "execute_result",
          "data": {
            "text/plain": [
              "(array([26555.,     0.,     0.,     0.,     0.,     0.,     0.,     0.,\n",
              "            0.,    85.]),\n",
              " array([0. , 0.1, 0.2, 0.3, 0.4, 0.5, 0.6, 0.7, 0.8, 0.9, 1. ]),\n",
              " <a list of 10 Patch objects>)"
            ]
          },
          "metadata": {},
          "execution_count": 9
        },
        {
          "output_type": "display_data",
          "data": {
            "text/plain": [
              "<Figure size 432x288 with 1 Axes>"
            ],
            "image/png": "[encoded data removed]"
          },
          "metadata": {
            "needs_background": "light"
          }
        }
      ]
    },
    {
      "cell_type": "code",
      "source": [
        "df['cluster'].value_counts()"
      ],
      "metadata": {
        "colab": {
          "base_uri": "https://localhost:8080/"
        },
        "id": "T9vaBAee3vAh",
        "outputId": "c5985044-0983-4101-f626-16221580a58e"
      },
      "execution_count": 10,
      "outputs": [
        {
          "output_type": "execute_result",
          "data": {
            "text/plain": [
              "0    26555\n",
              "1       85\n",
              "Name: cluster, dtype: int64"
            ]
          },
          "metadata": {},
          "execution_count": 10
        }
      ]
    },
    {
      "cell_type": "code",
      "source": [],
      "metadata": {
        "id": "52kzvi9-3_JU"
      },
      "execution_count": 10,
      "outputs": []
    },
    {
      "cell_type": "markdown",
      "source": [
        "# save model pkl"
      ],
      "metadata": {
        "id": "9PFZyjFOZwm2"
      }
    },
    {
      "cell_type": "code",
      "source": [
        "import pickle\n",
        "\n",
        "# Save the model under the cwd\n",
        "with open(\"industry.pkl\", \"wb\") as f:\n",
        "    pickle.dump(kmeans, f)"
      ],
      "metadata": {
        "id": "DMM5n8dvZyN8"
      },
      "execution_count": 48,
      "outputs": []
    },
    {
      "cell_type": "code",
      "source": [
        "# Load the saved model\n",
        "with open(\"industry.pkl\", \"rb\") as f:\n",
        "    industry = pickle.load(f)"
      ],
      "metadata": {
        "id": "HH1q08a8a9nu"
      },
      "execution_count": 49,
      "outputs": []
    },
    {
      "cell_type": "code",
      "source": [
        "print(industry.predict([[0, 0, 0, 0, 272, 0]]))"
      ],
      "metadata": {
        "colab": {
          "base_uri": "https://localhost:8080/"
        },
        "id": "GEg8h-0WdCKf",
        "outputId": "4d8196bd-ab2b-42b7-a8c6-b50a87a18ad8"
      },
      "execution_count": 58,
      "outputs": [
        {
          "output_type": "stream",
          "name": "stdout",
          "text": [
            "[1]\n"
          ]
        },
        {
          "output_type": "stream",
          "name": "stderr",
          "text": [
            "/usr/local/lib/python3.7/dist-packages/sklearn/base.py:451: UserWarning: X does not have valid feature names, but KMeans was fitted with feature names\n",
            "  \"X does not have valid feature names, but\"\n"
          ]
        }
      ]
    }
  ]
}